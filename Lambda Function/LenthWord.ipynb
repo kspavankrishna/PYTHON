{
 "metadata": {
  "name": "",
  "signature": "sha256:c29afa7a7194af12b93f39e7f02a5afe6a65037fc584790209d7f5806759fe38"
 },
 "nbformat": 3,
 "nbformat_minor": 0,
 "worksheets": [
  {
   "cells": [
    {
     "cell_type": "code",
     "collapsed": false,
     "input": [
      "from functools import reduce\n",
      "wordlen = [2,3,4,2]\n",
      "sum = reduce(lambda x,y : x+y, wordlen)\n",
      "print(sum)\n",
      "print(sum/len(wordlen))"
     ],
     "language": "python",
     "metadata": {},
     "outputs": [
      {
       "output_type": "stream",
       "stream": "stdout",
       "text": [
        "11\n",
        "2\n"
       ]
      }
     ],
     "prompt_number": 5
    },
    {
     "cell_type": "markdown",
     "metadata": {},
     "source": []
    }
   ],
   "metadata": {}
  }
 ]
}