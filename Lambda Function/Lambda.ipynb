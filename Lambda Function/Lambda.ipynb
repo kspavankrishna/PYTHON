{
 "metadata": {
  "name": "",
  "signature": "sha256:6932af1c9f6aefb6131beea98b97494a9880414d3a3027b776f452335ba50993"
 },
 "nbformat": 3,
 "nbformat_minor": 0,
 "worksheets": [
  {
   "cells": [
    {
     "cell_type": "markdown",
     "metadata": {},
     "source": [
      "# Lambda Functions"
     ]
    },
    {
     "cell_type": "code",
     "collapsed": false,
     "input": [
      "i = 0\n",
      "i = int(input(\"Enter value to be cubed\"))\n",
      "# Version 1\n",
      "def expocube(i):\n",
      "    return pow(i,3)\n",
      "print(\"Cubed value is\", expocube(i))\n"
     ],
     "language": "python",
     "metadata": {},
     "outputs": [
      {
       "name": "stdout",
       "output_type": "stream",
       "stream": "stdout",
       "text": [
        "Enter value to be cubed22\n"
       ]
      },
      {
       "output_type": "stream",
       "stream": "stdout",
       "text": [
        "('Cubed value is', 10648)\n"
       ]
      }
     ],
     "prompt_number": 2
    },
    {
     "cell_type": "code",
     "collapsed": false,
     "input": [
      "# Version 2\n",
      "result = lambda i : pow(1,2)\n",
      "print(\"Squared value using pow is\",result(i))"
     ],
     "language": "python",
     "metadata": {},
     "outputs": [
      {
       "output_type": "stream",
       "stream": "stdout",
       "text": [
        "('Squared value using pow is', 1)\n"
       ]
      }
     ],
     "prompt_number": 3
    },
    {
     "cell_type": "code",
     "collapsed": false,
     "input": [
      "# Version 3\n",
      "result = lambda i : i**2\n",
      "print (\"squared value using ** is \", result(i))"
     ],
     "language": "python",
     "metadata": {},
     "outputs": [
      {
       "output_type": "stream",
       "stream": "stdout",
       "text": [
        "('squared value using ** is ', 484)\n"
       ]
      }
     ],
     "prompt_number": 4
    },
    {
     "cell_type": "code",
     "collapsed": false,
     "input": [
      "atomicWeights = {1:12, 2:4, 3:32, 4:10, 4:23}\n",
      "sortedList = []\n",
      "sortedList = sorted(atomicWeights.items(), key = lambda X : X[1], reverse = True)\n",
      "print (sortedList)\n",
      "print(len(atomicWeights))"
     ],
     "language": "python",
     "metadata": {},
     "outputs": [
      {
       "ename": "SyntaxError",
       "evalue": "invalid syntax (<ipython-input-6-d04b6b94acea>, line 5)",
       "output_type": "pyerr",
       "traceback": [
        "\u001b[0;36m  File \u001b[0;32m\"<ipython-input-6-d04b6b94acea>\"\u001b[0;36m, line \u001b[0;32m5\u001b[0m\n\u001b[0;31m    print (atomicWeights--)\u001b[0m\n\u001b[0m                          ^\u001b[0m\n\u001b[0;31mSyntaxError\u001b[0m\u001b[0;31m:\u001b[0m invalid syntax\n"
       ]
      }
     ],
     "prompt_number": 6
    },
    {
     "cell_type": "code",
     "collapsed": false,
     "input": [],
     "language": "python",
     "metadata": {},
     "outputs": []
    }
   ],
   "metadata": {}
  }
 ]
}